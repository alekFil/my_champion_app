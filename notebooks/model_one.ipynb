{
 "cells": [
  {
   "cell_type": "markdown",
   "metadata": {},
   "source": [
    "# Импорт библиотек"
   ]
  },
  {
   "cell_type": "code",
   "execution_count": 2,
   "metadata": {},
   "outputs": [],
   "source": [
    "import joblib\n",
    "import pandas as pd\n",
    "from tqdm import tqdm\n",
    "import matplotlib.pyplot as plt\n",
    "import seaborn as sns\n",
    "\n",
    "import os"
   ]
  },
  {
   "cell_type": "code",
   "execution_count": 29,
   "metadata": {},
   "outputs": [],
   "source": [
    "from catboost import CatBoostClassifier\n",
    "from sklearn.compose import ColumnTransformer\n",
    "from sklearn.ensemble import RandomForestClassifier\n",
    "from sklearn.linear_model import LogisticRegression\n",
    "from sklearn.metrics import (\n",
    "    classification_report,\n",
    "    confusion_matrix,\n",
    "    ConfusionMatrixDisplay,\n",
    ")\n",
    "from sklearn.model_selection import train_test_split\n",
    "from sklearn.neighbors import KNeighborsClassifier\n",
    "from sklearn.pipeline import make_pipeline\n",
    "from sklearn.preprocessing import OneHotEncoder, OrdinalEncoder, StandardScaler\n",
    "\n",
    "from sklearn.metrics import (\n",
    "    roc_auc_score,\n",
    "    precision_score,\n",
    "    recall_score,\n",
    "    f1_score,\n",
    "    roc_curve,\n",
    "    confusion_matrix,\n",
    ")\n",
    "from sklearn.model_selection import TimeSeriesSplit, cross_val_score"
   ]
  },
  {
   "cell_type": "code",
   "execution_count": 5,
   "metadata": {},
   "outputs": [],
   "source": [
    "tqdm.pandas()\n",
    "pd.set_option(\"display.max_columns\", None)\n",
    "pd.set_option(\"display.max_rows\", None)\n",
    "RANDOM_STATE = 1206"
   ]
  },
  {
   "cell_type": "markdown",
   "metadata": {},
   "source": [
    "# Загрузка данных"
   ]
  },
  {
   "cell_type": "markdown",
   "metadata": {},
   "source": [
    "## Справочная информация"
   ]
  },
  {
   "cell_type": "code",
   "execution_count": 6,
   "metadata": {},
   "outputs": [],
   "source": [
    "file_path = \"../data/mats/base_scores_dict.joblib\"\n",
    "\n",
    "if os.path.isfile(file_path):\n",
    "    base_scores_dict = joblib.load(file_path)"
   ]
  },
  {
   "cell_type": "code",
   "execution_count": 7,
   "metadata": {},
   "outputs": [
    {
     "data": {
      "text/html": [
       "<div>\n",
       "<style scoped>\n",
       "    .dataframe tbody tr th:only-of-type {\n",
       "        vertical-align: middle;\n",
       "    }\n",
       "\n",
       "    .dataframe tbody tr th {\n",
       "        vertical-align: top;\n",
       "    }\n",
       "\n",
       "    .dataframe thead th {\n",
       "        text-align: right;\n",
       "    }\n",
       "</style>\n",
       "<table border=\"1\" class=\"dataframe\">\n",
       "  <thead>\n",
       "    <tr style=\"text-align: right;\">\n",
       "      <th></th>\n",
       "      <th>item</th>\n",
       "      <th>base_score</th>\n",
       "    </tr>\n",
       "  </thead>\n",
       "  <tbody>\n",
       "    <tr>\n",
       "      <th>0</th>\n",
       "      <td>1T</td>\n",
       "      <td>0.4</td>\n",
       "    </tr>\n",
       "    <tr>\n",
       "      <th>1</th>\n",
       "      <td>1S</td>\n",
       "      <td>0.4</td>\n",
       "    </tr>\n",
       "    <tr>\n",
       "      <th>2</th>\n",
       "      <td>1Lo</td>\n",
       "      <td>0.5</td>\n",
       "    </tr>\n",
       "    <tr>\n",
       "      <th>3</th>\n",
       "      <td>1Eu</td>\n",
       "      <td>0.5</td>\n",
       "    </tr>\n",
       "    <tr>\n",
       "      <th>4</th>\n",
       "      <td>1F</td>\n",
       "      <td>0.5</td>\n",
       "    </tr>\n",
       "  </tbody>\n",
       "</table>\n",
       "</div>"
      ],
      "text/plain": [
       "  item  base_score\n",
       "0   1T         0.4\n",
       "1   1S         0.4\n",
       "2  1Lo         0.5\n",
       "3  1Eu         0.5\n",
       "4   1F         0.5"
      ]
     },
     "execution_count": 7,
     "metadata": {},
     "output_type": "execute_result"
    }
   ],
   "source": [
    "base_scores_dict.head()"
   ]
  },
  {
   "cell_type": "code",
   "execution_count": 8,
   "metadata": {},
   "outputs": [],
   "source": [
    "file_path = \"../data/mats/nlp_dict.joblib\"\n",
    "\n",
    "if os.path.isfile(file_path):\n",
    "    nlp_dict = joblib.load(file_path)"
   ]
  },
  {
   "cell_type": "code",
   "execution_count": 9,
   "metadata": {},
   "outputs": [
    {
     "data": {
      "text/html": [
       "<div>\n",
       "<style scoped>\n",
       "    .dataframe tbody tr th:only-of-type {\n",
       "        vertical-align: middle;\n",
       "    }\n",
       "\n",
       "    .dataframe tbody tr th {\n",
       "        vertical-align: top;\n",
       "    }\n",
       "\n",
       "    .dataframe thead th {\n",
       "        text-align: right;\n",
       "    }\n",
       "</style>\n",
       "<table border=\"1\" class=\"dataframe\">\n",
       "  <thead>\n",
       "    <tr style=\"text-align: right;\">\n",
       "      <th></th>\n",
       "      <th>item</th>\n",
       "      <th>nlp_item</th>\n",
       "      <th>embed_0</th>\n",
       "      <th>embed_1</th>\n",
       "      <th>embed_2</th>\n",
       "      <th>embed_3</th>\n",
       "      <th>embed_4</th>\n",
       "      <th>embed_5</th>\n",
       "      <th>embed_6</th>\n",
       "      <th>embed_7</th>\n",
       "      <th>embed_8</th>\n",
       "      <th>embed_9</th>\n",
       "    </tr>\n",
       "  </thead>\n",
       "  <tbody>\n",
       "    <tr>\n",
       "      <th>0</th>\n",
       "      <td>1T</td>\n",
       "      <td>Single Toeloop</td>\n",
       "      <td>3.158019</td>\n",
       "      <td>-1.617936</td>\n",
       "      <td>0.396813</td>\n",
       "      <td>-1.733884</td>\n",
       "      <td>1.948211</td>\n",
       "      <td>0.765280</td>\n",
       "      <td>-4.662311</td>\n",
       "      <td>2.644467</td>\n",
       "      <td>1.162508</td>\n",
       "      <td>0.099441</td>\n",
       "    </tr>\n",
       "    <tr>\n",
       "      <th>1</th>\n",
       "      <td>1S</td>\n",
       "      <td>Single Salchow</td>\n",
       "      <td>3.601343</td>\n",
       "      <td>-2.698863</td>\n",
       "      <td>-0.136379</td>\n",
       "      <td>-0.407949</td>\n",
       "      <td>-1.530264</td>\n",
       "      <td>-2.107504</td>\n",
       "      <td>-2.906400</td>\n",
       "      <td>1.774684</td>\n",
       "      <td>0.182980</td>\n",
       "      <td>-3.096374</td>\n",
       "    </tr>\n",
       "    <tr>\n",
       "      <th>2</th>\n",
       "      <td>1Lo</td>\n",
       "      <td>Single Loop</td>\n",
       "      <td>5.122801</td>\n",
       "      <td>-4.158421</td>\n",
       "      <td>-2.667444</td>\n",
       "      <td>0.345399</td>\n",
       "      <td>-0.499262</td>\n",
       "      <td>0.415096</td>\n",
       "      <td>-2.308891</td>\n",
       "      <td>3.640449</td>\n",
       "      <td>-1.090383</td>\n",
       "      <td>2.599226</td>\n",
       "    </tr>\n",
       "    <tr>\n",
       "      <th>3</th>\n",
       "      <td>1Eu</td>\n",
       "      <td>Single Euler (only used in jump combinations)</td>\n",
       "      <td>0.762735</td>\n",
       "      <td>-3.136916</td>\n",
       "      <td>-0.003426</td>\n",
       "      <td>0.913632</td>\n",
       "      <td>-0.219761</td>\n",
       "      <td>-0.314236</td>\n",
       "      <td>0.426446</td>\n",
       "      <td>-0.346271</td>\n",
       "      <td>2.761745</td>\n",
       "      <td>0.762287</td>\n",
       "    </tr>\n",
       "    <tr>\n",
       "      <th>4</th>\n",
       "      <td>1F</td>\n",
       "      <td>Single Flip</td>\n",
       "      <td>4.872679</td>\n",
       "      <td>-4.149351</td>\n",
       "      <td>-1.611438</td>\n",
       "      <td>0.783791</td>\n",
       "      <td>0.614820</td>\n",
       "      <td>-0.363553</td>\n",
       "      <td>-3.880303</td>\n",
       "      <td>1.822208</td>\n",
       "      <td>-0.969000</td>\n",
       "      <td>-0.667879</td>\n",
       "    </tr>\n",
       "  </tbody>\n",
       "</table>\n",
       "</div>"
      ],
      "text/plain": [
       "  item                                       nlp_item   embed_0   embed_1  \\\n",
       "0   1T                                 Single Toeloop  3.158019 -1.617936   \n",
       "1   1S                                 Single Salchow  3.601343 -2.698863   \n",
       "2  1Lo                                    Single Loop  5.122801 -4.158421   \n",
       "3  1Eu  Single Euler (only used in jump combinations)  0.762735 -3.136916   \n",
       "4   1F                                    Single Flip  4.872679 -4.149351   \n",
       "\n",
       "    embed_2   embed_3   embed_4   embed_5   embed_6   embed_7   embed_8  \\\n",
       "0  0.396813 -1.733884  1.948211  0.765280 -4.662311  2.644467  1.162508   \n",
       "1 -0.136379 -0.407949 -1.530264 -2.107504 -2.906400  1.774684  0.182980   \n",
       "2 -2.667444  0.345399 -0.499262  0.415096 -2.308891  3.640449 -1.090383   \n",
       "3 -0.003426  0.913632 -0.219761 -0.314236  0.426446 -0.346271  2.761745   \n",
       "4 -1.611438  0.783791  0.614820 -0.363553 -3.880303  1.822208 -0.969000   \n",
       "\n",
       "    embed_9  \n",
       "0  0.099441  \n",
       "1 -3.096374  \n",
       "2  2.599226  \n",
       "3  0.762287  \n",
       "4 -0.667879  "
      ]
     },
     "execution_count": 9,
     "metadata": {},
     "output_type": "execute_result"
    }
   ],
   "source": [
    "nlp_dict.head()"
   ]
  },
  {
   "cell_type": "markdown",
   "metadata": {},
   "source": [
    "## Данные для моделирования"
   ]
  },
  {
   "cell_type": "code",
   "execution_count": 10,
   "metadata": {},
   "outputs": [],
   "source": [
    "file_path = \"../data/processed/final_data.joblib\"\n",
    "\n",
    "if os.path.isfile(file_path):\n",
    "    final_data = joblib.load(file_path)"
   ]
  },
  {
   "cell_type": "code",
   "execution_count": 11,
   "metadata": {},
   "outputs": [
    {
     "data": {
      "text/plain": [
       "(136126, 62)"
      ]
     },
     "execution_count": 11,
     "metadata": {},
     "output_type": "execute_result"
    }
   ],
   "source": [
    "final_data.shape"
   ]
  },
  {
   "cell_type": "code",
   "execution_count": 12,
   "metadata": {},
   "outputs": [
    {
     "data": {
      "text/plain": [
       "Index(['id', 'total_score_id', 'title', 'decrease', 'base_score', 'goe',\n",
       "       'avg_score', 'unit_id', 'tournament_id', 'base_score_total_scores',\n",
       "       'components_score', 'total_score', 'elements_score',\n",
       "       'decreasings_score', 'starting_place', 'place', 'segment_name', 'info',\n",
       "       'overall_place', 'overall_total_score', 'overall_place_str', 'color',\n",
       "       'school_id', 'date_start', 'date_end', 'origin_id', 'sequences',\n",
       "       'cascade', 'title_nlp', 'cascade_nlp', 'multiply',\n",
       "       'tournament_duration', 'start_month', 'end_month', 'start_day_of_week',\n",
       "       'end_day_of_week', 'start_is_weekend', 'end_is_weekend', 'start_season',\n",
       "       'end_season', 'tournament_year', 'units_with_experience', 'falls',\n",
       "       'components_score_per_element', 'custom_base_score',\n",
       "       'avg_overall_place_last_year', 'avg_overall_total_score_last_year',\n",
       "       'avg_components_score_last_year', 'avg_place_last_year',\n",
       "       'avg_elements_score_last_year', 'avg_decreasings_score_last_year',\n",
       "       'avg_total_score_last_year', 'avg_falls_last_year',\n",
       "       'target_clear_element', 'difficulty', 'perfect_element', 'q_element',\n",
       "       'e_element', 'l_element', 'll_element', 'h_element', 'v_element'],\n",
       "      dtype='object')"
      ]
     },
     "execution_count": 12,
     "metadata": {},
     "output_type": "execute_result"
    }
   ],
   "source": [
    "final_data.columns"
   ]
  },
  {
   "cell_type": "code",
   "execution_count": 13,
   "metadata": {},
   "outputs": [],
   "source": [
    "file_path = \"../data/processed/final_elements_data.joblib\"\n",
    "\n",
    "if os.path.isfile(file_path):\n",
    "    final_elements_data = joblib.load(file_path)"
   ]
  },
  {
   "cell_type": "code",
   "execution_count": 14,
   "metadata": {},
   "outputs": [
    {
     "data": {
      "text/plain": [
       "(168745, 92)"
      ]
     },
     "execution_count": 14,
     "metadata": {},
     "output_type": "execute_result"
    }
   ],
   "source": [
    "final_elements_data.shape"
   ]
  },
  {
   "cell_type": "markdown",
   "metadata": {},
   "source": [
    "## Валидационные данные"
   ]
  },
  {
   "cell_type": "code",
   "execution_count": 15,
   "metadata": {},
   "outputs": [],
   "source": [
    "file_path = \"../data/processed/valid_unit_data.joblib\"\n",
    "\n",
    "if os.path.isfile(file_path):\n",
    "    valid_unit_data = joblib.load(file_path)"
   ]
  },
  {
   "cell_type": "code",
   "execution_count": 16,
   "metadata": {},
   "outputs": [],
   "source": [
    "file_path = \"../data/processed/test_unit_data.joblib\"\n",
    "\n",
    "if os.path.isfile(file_path):\n",
    "    test_unit_data = joblib.load(file_path)"
   ]
  },
  {
   "cell_type": "code",
   "execution_count": 17,
   "metadata": {},
   "outputs": [],
   "source": [
    "file_path = \"../data/processed/final_test_unit_data.joblib\"\n",
    "\n",
    "if os.path.isfile(file_path):\n",
    "    final_test_unit_data = joblib.load(file_path)"
   ]
  },
  {
   "cell_type": "code",
   "execution_count": 18,
   "metadata": {},
   "outputs": [],
   "source": [
    "file_path = \"../data/processed/valid_unit_elements_data.joblib\"\n",
    "\n",
    "if os.path.isfile(file_path):\n",
    "    valid_unit_elements_data = joblib.load(file_path)"
   ]
  },
  {
   "cell_type": "code",
   "execution_count": 19,
   "metadata": {},
   "outputs": [],
   "source": [
    "file_path = \"../data/processed/test_unit_elements_data.joblib\"\n",
    "\n",
    "if os.path.isfile(file_path):\n",
    "    test_unit_elements_data = joblib.load(file_path)"
   ]
  },
  {
   "cell_type": "code",
   "execution_count": 20,
   "metadata": {},
   "outputs": [],
   "source": [
    "file_path = \"../data/processed/final_test_unit_elements_data.joblib\"\n",
    "\n",
    "if os.path.isfile(file_path):\n",
    "    final_test_unit_elements_data = joblib.load(file_path)"
   ]
  },
  {
   "cell_type": "markdown",
   "metadata": {},
   "source": [
    "# Описание идеи"
   ]
  },
  {
   "cell_type": "markdown",
   "metadata": {},
   "source": [
    "Первая модель должна предсказывать вероятность идеального выполнения выбранного набора элементов или элемента.\n",
    "\n",
    "В случае работы с наборами элементов (последовательности, каскады) будет предсказываться вероятность идеального исполнения всего набора (дата-сет final_data).\n",
    "\n",
    "В случае работы поэлементно будет предсказывать вероятность исполнения каждого элемента с учетом его \"расположения\" в наборе (для этого введены признаки \"следующий\" и \"предыдущий\" элемент). Для оценки вероятности идеального исполнения полного набора будет использователь формулу условной вероятности.\n",
    "\n",
    "Для расчета итоговой вероятности выполнения элементов в каскаде 2A+2F идеально нужно учесть зависимость событий. Вероятность выполнения каждого элемента можно трактовать как условную вероятность, где вероятность выполнения второго элемента зависит от выполнения первого.\n",
    "\n",
    "Предположим, что вероятность выполнения 2A составляет $P(2A) = 0.7$, а вероятность выполнения 2F после 2A составляет $P(2F \\mid 2A) = 0.4$. Таким образом, чтобы вычислить общую вероятность выполнения каскада 2A+2F идеально, нужно умножить вероятности выполнения каждого элемента:\n",
    "\n",
    "$$\n",
    "P(2A \\text{ и } 2F) = P(2A) \\times P(2F \\mid 2A)\n",
    "$$\n",
    "\n",
    "Подставим значения:\n",
    "\n",
    "$$\n",
    "P(2A \\text{ и } 2F) = 0.7 \\times 0.4 = 0.28\n",
    "$$\n",
    "\n",
    "Итак, итоговая вероятность того, что спортсмен выполнит элементы 2A+2F в каскаде идеально, составляет 28%.\n",
    "\n",
    "\n",
    "На основе предсказания вашей модели можно сделать вывод, что данный элемент фигурного катания в указанном контексте будет выполнен без ошибок с вероятностью 29%. Это означает, что, согласно вашей модели, есть 29% вероятность того, что элемент будет выполнен без ошибок, и 71% вероятность того, что ошибки будут допущены.\n",
    "\n",
    "### Результаты модели\n",
    "\n",
    "1. **Целевой признак модели**: выполнение элемента без ошибок (бинарная классификация: 0 - с ошибками, 1 - без ошибок).\n",
    "2. **Метод `predict`**: возвращает класс, к которому модель относит наблюдение (в данном случае, класс 0 - выполнение элемента с ошибками).\n",
    "3. **Метод `predict_proba`**: возвращает вероятность того, что наблюдение принадлежит к каждому классу. В вашем случае, вероятность того, что элемент будет выполнен без ошибок, составляет 0.29, или 29%.\n",
    "\n",
    "### Интерпретация предсказания модели\n",
    "\n",
    "Предсказание модели основано на обучении на исторических данных, где учитывались элементы фигурного катания, их контекст (в каскаде или одиночный), наличие ошибок в предыдущих и последующих элементах, а также характеристики спортсмена. Вот несколько ключевых моментов:\n",
    "\n",
    "- **Вероятность 29%**: Это значит, что среди всех подобных случаев (с аналогичными параметрами) только в 29% случаев элемент выполнялся без ошибок.\n",
    "- **Контекст и характеристики**: Модель учитывает не только сам элемент, но и его контекст (в каскаде или нет) и характеристики спортсмена, что делает предсказание более точным для конкретной ситуации.\n",
    "\n",
    "### Практическое использование\n",
    "\n",
    "На практике, можно использовать эту информацию для принятия решений о том, стоит ли включать данный элемент в программу, или, возможно, следует выбрать другой элемент, который имеет более высокую вероятность быть выполненным без ошибок.\n",
    "\n",
    "### Пример использования результатов\n",
    "\n",
    "Если модель предсказывает, что вероятность выполнения элемента без ошибок составляет 29%, это говорит о высоком риске допущения ошибок. В зависимости от стратегии тренера и спортсмена, можно:\n",
    "\n",
    "1. **Избегать высоко рискованных элементов**: Если целью является минимизация ошибок, можно выбрать элементы с более высокой вероятностью выполнения без ошибок.\n",
    "2. **Тренировка сложных элементов**: Если есть время и ресурсы для улучшения навыков, можно сосредоточиться на тренировке сложных элементов, чтобы повысить вероятность их выполнения без ошибок в будущем.\n",
    "\n",
    "Таким образом, предсказание вашей модели предоставляет ценную информацию для принятия решений и стратегического планирования в фигурном катании."
   ]
  },
  {
   "cell_type": "markdown",
   "metadata": {},
   "source": [
    "# Моделирование"
   ]
  },
  {
   "cell_type": "markdown",
   "metadata": {},
   "source": [
    "## Поэлементный подход - дата-сет `final_elements_data`"
   ]
  },
  {
   "cell_type": "code",
   "execution_count": 21,
   "metadata": {},
   "outputs": [
    {
     "data": {
      "text/plain": [
       "Index(['id', 'total_score_id', 'title', 'decrease', 'base_score', 'goe',\n",
       "       'avg_score', 'unit_id', 'tournament_id', 'base_score_total_scores',\n",
       "       'components_score', 'total_score', 'elements_score',\n",
       "       'decreasings_score', 'starting_place', 'place', 'segment_name', 'info',\n",
       "       'overall_place', 'overall_total_score', 'overall_place_str', 'color',\n",
       "       'school_id', 'date_start', 'date_end', 'origin_id', 'sequences',\n",
       "       'cascade', 'title_nlp', 'cascade_nlp', 'multiply',\n",
       "       'tournament_duration', 'start_month', 'end_month', 'start_day_of_week',\n",
       "       'end_day_of_week', 'start_is_weekend', 'end_is_weekend', 'start_season',\n",
       "       'end_season', 'tournament_year', 'units_with_experience', 'falls',\n",
       "       'components_score_per_element', 'custom_base_score',\n",
       "       'avg_overall_place_last_year', 'avg_overall_total_score_last_year',\n",
       "       'avg_components_score_last_year', 'avg_place_last_year',\n",
       "       'avg_elements_score_last_year', 'avg_decreasings_score_last_year',\n",
       "       'avg_total_score_last_year', 'avg_falls_last_year',\n",
       "       'target_clear_element', 'difficulty', 'perfect_element', 'q_element',\n",
       "       'e_element', 'l_element', 'll_element', 'h_element', 'v_element',\n",
       "       'element', 'attr_element', 'prev_element', 'attr_prev_element',\n",
       "       'next_element', 'attr_next_element', 'single_element',\n",
       "       'clear_prev_element', 'clear_next_element', 'perfect_attr_element',\n",
       "       'q_attr_element', 'e_attr_element', 'l_attr_element', 'll_attr_element',\n",
       "       'h_attr_element', 'v_attr_element', 'perfect_attr_prev_element',\n",
       "       'q_attr_prev_element', 'e_attr_prev_element', 'l_attr_prev_element',\n",
       "       'll_attr_prev_element', 'h_attr_prev_element', 'v_attr_prev_element',\n",
       "       'perfect_attr_next_element', 'q_attr_next_element',\n",
       "       'e_attr_next_element', 'l_attr_next_element', 'll_attr_next_element',\n",
       "       'h_attr_next_element', 'v_attr_next_element'],\n",
       "      dtype='object')"
      ]
     },
     "execution_count": 21,
     "metadata": {},
     "output_type": "execute_result"
    }
   ],
   "source": [
    "final_elements_data.columns"
   ]
  },
  {
   "cell_type": "markdown",
   "metadata": {},
   "source": [
    "Среди всех признаков дата-сета некоторые могут являться причиной утечки целевого признака, а именно: 'decrease', 'base_score', 'goe', 'avg_score', 'attr_element'\n",
    "\n",
    "Кроме того, часть признаков не может быть определена для тестовых данных: 'decrease', 'goe', 'avg_score'\n",
    "\n",
    "Целевым признаком для разрабатываемой модели бинарной классификации является: 'target_clear_element'"
   ]
  },
  {
   "cell_type": "code",
   "execution_count": 22,
   "metadata": {},
   "outputs": [
    {
     "data": {
      "text/plain": [
       "(168745, 34)"
      ]
     },
     "execution_count": 22,
     "metadata": {},
     "output_type": "execute_result"
    }
   ],
   "source": [
    "# Комменитрование признаков, не используемых в моделировании связано\n",
    "# с удобством проведения большого количества экспериментов\n",
    "data_e1 = final_elements_data[\n",
    "    [\n",
    "        # \"id\",\n",
    "        # \"total_score_id\",\n",
    "        # \"title\",\n",
    "        # \"decrease\",\n",
    "        # \"base_score\",\n",
    "        # \"goe\",\n",
    "        # \"avg_score\",\n",
    "        # \"unit_id\",\n",
    "        # \"tournament_id\",\n",
    "        # \"base_score_total_scores\",\n",
    "        # \"components_score\",\n",
    "        # \"total_score\",\n",
    "        # \"elements_score\",\n",
    "        # \"decreasings_score\",\n",
    "        # \"starting_place\",\n",
    "        # \"place\",\n",
    "        \"segment_name\",\n",
    "        # \"info\",\n",
    "        # \"overall_place\",\n",
    "        # \"overall_total_score\",\n",
    "        # \"overall_place_str\",\n",
    "        \"color\",\n",
    "        \"school_id\",\n",
    "        # \"date_start\",\n",
    "        # \"date_end\",\n",
    "        \"origin_id\",\n",
    "        # \"sequences\",\n",
    "        # \"cascade\",\n",
    "        # \"title_nlp\",\n",
    "        # \"cascade_nlp\",\n",
    "        \"multiply\",\n",
    "        \"tournament_duration\",\n",
    "        \"start_month\",\n",
    "        \"end_month\",\n",
    "        \"start_day_of_week\",\n",
    "        \"end_day_of_week\",\n",
    "        \"start_is_weekend\",\n",
    "        \"end_is_weekend\",\n",
    "        \"start_season\",\n",
    "        \"end_season\",\n",
    "        \"tournament_year\",\n",
    "        # \"units_with_experience\",\n",
    "        \"falls\",\n",
    "        # \"components_score_per_element\",\n",
    "        # \"custom_base_score\",\n",
    "        \"avg_overall_place_last_year\",\n",
    "        \"avg_overall_total_score_last_year\",\n",
    "        \"avg_components_score_last_year\",\n",
    "        \"avg_place_last_year\",\n",
    "        \"avg_elements_score_last_year\",\n",
    "        \"avg_decreasings_score_last_year\",\n",
    "        \"avg_total_score_last_year\",\n",
    "        \"avg_falls_last_year\",\n",
    "        \"target_clear_element\",\n",
    "        \"difficulty\",\n",
    "        # \"perfect_element\",\n",
    "        # \"q_element\",\n",
    "        # \"e_element\",\n",
    "        # \"l_element\",\n",
    "        # \"ll_element\",\n",
    "        # \"h_element\",\n",
    "        # \"v_element\",\n",
    "        \"element\",\n",
    "        # \"attr_element\",\n",
    "        \"prev_element\",\n",
    "        \"attr_prev_element\",\n",
    "        \"next_element\",\n",
    "        \"attr_next_element\",\n",
    "        \"single_element\",\n",
    "        \"clear_prev_element\",\n",
    "        \"clear_next_element\",\n",
    "        # \"perfect_attr_element\",\n",
    "        # \"q_attr_element\",\n",
    "        # \"e_attr_element\",\n",
    "        # \"l_attr_element\",\n",
    "        # \"ll_attr_element\",\n",
    "        # \"h_attr_element\",\n",
    "        # \"v_attr_element\",\n",
    "        # \"perfect_attr_prev_element\",\n",
    "        # \"q_attr_prev_element\",\n",
    "        # \"e_attr_prev_element\",\n",
    "        # \"l_attr_prev_element\",\n",
    "        # \"ll_attr_prev_element\",\n",
    "        # \"h_attr_prev_element\",\n",
    "        # \"v_attr_prev_element\",\n",
    "        # \"perfect_attr_next_element\",\n",
    "        # \"q_attr_next_element\",\n",
    "        # \"e_attr_next_element\",\n",
    "        # \"l_attr_next_element\",\n",
    "        # \"ll_attr_next_element\",\n",
    "        # \"h_attr_next_element\",\n",
    "        # \"v_attr_next_element\",\n",
    "    ]\n",
    "].copy()\n",
    "data_e1.shape\n"
   ]
  },
  {
   "cell_type": "code",
   "execution_count": 23,
   "metadata": {},
   "outputs": [
    {
     "data": {
      "text/plain": [
       "2765"
      ]
     },
     "execution_count": 23,
     "metadata": {},
     "output_type": "execute_result"
    }
   ],
   "source": [
    "data_e1.duplicated(keep=\"first\").sum()"
   ]
  },
  {
   "cell_type": "markdown",
   "metadata": {},
   "source": [
    "Удаление дубликатов в данных временных рядов – это деликатный вопрос и зависит от контекста данных и цели анализа. Удалять дубликаты целесообразно, когда они появились в результате очевидных ошибок или они не содержат новой информации и не искажают временной ряд. В некоторых временных рядах дубликаты могут отражать реальные повторяющиеся события. Например, в данных о транзакциях может быть несколько одинаковых транзакций в одном и том же временном интервале. Если дубликаты представляют значимую информацию о последовательности событий, их удаление может привести к потере информации. Например, в данных о трафике интернета дублированные записи могут указывать на повышенную активность в определенные моменты времени.\n",
    "\n",
    "Принято решение не удалять дубликаты, но во всех экспериментах оценивать их количество."
   ]
  },
  {
   "cell_type": "code",
   "execution_count": 24,
   "metadata": {},
   "outputs": [
    {
     "data": {
      "text/plain": [
       "target_clear_element\n",
       "1    138436\n",
       "0     30309\n",
       "Name: count, dtype: int64"
      ]
     },
     "execution_count": 24,
     "metadata": {},
     "output_type": "execute_result"
    }
   ],
   "source": [
    "data_e1[\"target_clear_element\"].value_counts()"
   ]
  },
  {
   "cell_type": "markdown",
   "metadata": {},
   "source": [
    "Имеем дисбаланс классов.\n",
    "\n",
    "Для учета качества предсказания класса 0 выбрана метрика **F1_Weighted** и оценка Classification Report."
   ]
  },
  {
   "cell_type": "markdown",
   "metadata": {},
   "source": [
    "### Разделение данных"
   ]
  },
  {
   "cell_type": "code",
   "execution_count": 25,
   "metadata": {},
   "outputs": [
    {
     "name": "stdout",
     "output_type": "stream",
     "text": [
      "(126558, 33)\n",
      "(126558,)\n",
      "(42187, 33)\n",
      "(42187,)\n"
     ]
    }
   ],
   "source": [
    "X = data_e1.drop(\"target_clear_element\", axis=1)\n",
    "y = data_e1[\"target_clear_element\"]\n",
    "\n",
    "X_train, X_test, y_train, y_test = train_test_split(\n",
    "    X, y, shuffle=False, random_state=1206\n",
    ")\n",
    "\n",
    "print(X_train.shape)\n",
    "print(y_train.shape)\n",
    "print(X_test.shape)\n",
    "print(y_test.shape)"
   ]
  },
  {
   "cell_type": "markdown",
   "metadata": {},
   "source": [
    "### Моделирование"
   ]
  },
  {
   "cell_type": "markdown",
   "metadata": {},
   "source": [
    "Определим категориальные и количественные признаки. Для линейной модели применим OHE, для иных - OrdinalEncoder. Во всех случаях, кроме CatBoost используем также StandardScaler для количественных признаков."
   ]
  },
  {
   "cell_type": "code",
   "execution_count": 26,
   "metadata": {},
   "outputs": [],
   "source": [
    "category_columns = [\n",
    "    # \"id\",\n",
    "    # \"total_score_id\",\n",
    "    # \"title\",\n",
    "    # \"decrease\",\n",
    "    # \"base_score\",\n",
    "    # \"goe\",\n",
    "    # \"avg_score\",\n",
    "    # \"unit_id\",\n",
    "    # \"tournament_id\",\n",
    "    # \"base_score_total_scores\",\n",
    "    # \"components_score\",\n",
    "    # \"total_score\",\n",
    "    # \"elements_score\",\n",
    "    # \"decreasings_score\",\n",
    "    # \"starting_place\",\n",
    "    # \"place\",\n",
    "    \"segment_name\",\n",
    "    # \"info\",\n",
    "    # \"overall_place\",\n",
    "    # \"overall_total_score\",\n",
    "    # \"overall_place_str\",\n",
    "    \"color\",\n",
    "    \"school_id\",\n",
    "    # \"date_start\",\n",
    "    # \"date_end\",\n",
    "    \"origin_id\",\n",
    "    # \"sequences\",\n",
    "    # \"cascade\",\n",
    "    # \"title_nlp\",\n",
    "    # \"cascade_nlp\",\n",
    "    # \"multiply\",\n",
    "    # \"tournament_duration\",\n",
    "    \"start_month\",\n",
    "    \"end_month\",\n",
    "    \"start_day_of_week\",\n",
    "    \"end_day_of_week\",\n",
    "    \"start_is_weekend\",\n",
    "    \"end_is_weekend\",\n",
    "    \"start_season\",\n",
    "    \"end_season\",\n",
    "    \"tournament_year\",\n",
    "    # \"units_with_experience\",\n",
    "    \"falls\",\n",
    "    # \"components_score_per_element\",\n",
    "    # # \"custom_base_score\",\n",
    "    # \"avg_overall_place_last_year\",\n",
    "    # \"avg_overall_total_score_last_year\",\n",
    "    # \"avg_components_score_last_year\",\n",
    "    # \"avg_place_last_year\",\n",
    "    # \"avg_elements_score_last_year\",\n",
    "    # \"avg_decreasings_score_last_year\",\n",
    "    # \"avg_total_score_last_year\",\n",
    "    # \"avg_falls_last_year\",\n",
    "    # \"target_clear_element\",\n",
    "    # \"difficulty\",\n",
    "    # \"perfect_element\",\n",
    "    # \"q_element\",\n",
    "    # \"e_element\",\n",
    "    # \"l_element\",\n",
    "    # \"ll_element\",\n",
    "    # \"h_element\",\n",
    "    # \"v_element\",\n",
    "    \"element\",\n",
    "    # \"attr_element\",\n",
    "    \"prev_element\",\n",
    "    \"attr_prev_element\",\n",
    "    \"next_element\",\n",
    "    \"attr_next_element\",\n",
    "    \"single_element\",\n",
    "    \"clear_prev_element\",\n",
    "    \"clear_next_element\",\n",
    "    # \"perfect_attr_element\",\n",
    "    # \"q_attr_element\",\n",
    "    # \"e_attr_element\",\n",
    "    # \"l_attr_element\",\n",
    "    # \"ll_attr_element\",\n",
    "    # \"h_attr_element\",\n",
    "    # \"v_attr_element\",\n",
    "    # \"perfect_attr_prev_element\",\n",
    "    # \"q_attr_prev_element\",\n",
    "    # \"e_attr_prev_element\",\n",
    "    # \"l_attr_prev_element\",\n",
    "    # \"ll_attr_prev_element\",\n",
    "    # \"h_attr_prev_element\",\n",
    "    # \"v_attr_prev_element\",\n",
    "    # \"perfect_attr_next_element\",\n",
    "    # \"q_attr_next_element\",\n",
    "    # \"e_attr_next_element\",\n",
    "    # \"l_attr_next_element\",\n",
    "    # \"ll_attr_next_element\",\n",
    "    # \"h_attr_next_element\",\n",
    "    # \"v_attr_next_element\",\n",
    "]\n",
    "\n",
    "ohe_columns = [x for x in category_columns if x in X.columns]\n",
    "scale_columns = [x for x in X.columns if x not in category_columns]"
   ]
  },
  {
   "cell_type": "markdown",
   "metadata": {},
   "source": [
    "#### Линейная регрессия"
   ]
  },
  {
   "cell_type": "code",
   "execution_count": 28,
   "metadata": {},
   "outputs": [],
   "source": [
    "preprocessor_lr = ColumnTransformer(\n",
    "    transformers=[\n",
    "        (\"ohe\", OneHotEncoder(drop=\"first\", handle_unknown=\"ignore\"), ohe_columns),\n",
    "        (\"scaler\", StandardScaler(), scale_columns),\n",
    "    ]\n",
    ")\n",
    "\n",
    "model_lr = make_pipeline(preprocessor_lr, LogisticRegression(max_iter=1000))\n"
   ]
  },
  {
   "cell_type": "code",
   "execution_count": 30,
   "metadata": {},
   "outputs": [],
   "source": [
    "tscv = TimeSeriesSplit(n_splits=3)"
   ]
  },
  {
   "cell_type": "code",
   "execution_count": 32,
   "metadata": {},
   "outputs": [
    {
     "name": "stdout",
     "output_type": "stream",
     "text": [
      "[CV] START .....................................................................\n"
     ]
    },
    {
     "name": "stderr",
     "output_type": "stream",
     "text": [
      "c:\\Users\\filat\\Documents\\projects\\my_champion_app\\.venv\\Lib\\site-packages\\sklearn\\preprocessing\\_encoders.py:242: UserWarning: Found unknown categories in columns [2, 4, 5, 14, 15] during transform. These unknown categories will be encoded as all zeros\n",
      "  warnings.warn(\n"
     ]
    },
    {
     "name": "stdout",
     "output_type": "stream",
     "text": [
      "[CV] END ................................ score: (test=0.829) total time=   0.8s\n",
      "[Parallel(n_jobs=1)]: Done   1 tasks      | elapsed:    0.8s\n",
      "[CV] START .....................................................................\n"
     ]
    },
    {
     "name": "stderr",
     "output_type": "stream",
     "text": [
      "c:\\Users\\filat\\Documents\\projects\\my_champion_app\\.venv\\Lib\\site-packages\\sklearn\\preprocessing\\_encoders.py:242: UserWarning: Found unknown categories in columns [2, 4, 5, 14, 18] during transform. These unknown categories will be encoded as all zeros\n",
      "  warnings.warn(\n"
     ]
    },
    {
     "name": "stdout",
     "output_type": "stream",
     "text": [
      "[CV] END ................................ score: (test=0.816) total time=   1.6s\n",
      "[Parallel(n_jobs=1)]: Done   2 tasks      | elapsed:    2.5s\n",
      "[CV] START .....................................................................\n",
      "[CV] END ................................ score: (test=0.824) total time=   2.4s\n",
      "[Parallel(n_jobs=1)]: Done   3 tasks      | elapsed:    5.0s\n",
      "[Parallel(n_jobs=1)]: Done   3 tasks      | elapsed:    5.0s\n"
     ]
    },
    {
     "name": "stderr",
     "output_type": "stream",
     "text": [
      "c:\\Users\\filat\\Documents\\projects\\my_champion_app\\.venv\\Lib\\site-packages\\sklearn\\preprocessing\\_encoders.py:242: UserWarning: Found unknown categories in columns [2, 12, 15] during transform. These unknown categories will be encoded as all zeros\n",
      "  warnings.warn(\n"
     ]
    }
   ],
   "source": [
    "cv_result = cross_val_score(\n",
    "    model_lr, X_train, y_train, cv=tscv, scoring=\"f1_weighted\", verbose=500\n",
    ")\n"
   ]
  },
  {
   "cell_type": "code",
   "execution_count": 34,
   "metadata": {},
   "outputs": [
    {
     "name": "stdout",
     "output_type": "stream",
     "text": [
      "Среднее значение метрики: 0.82\n",
      "Стандартное отклонение предсказаний: 0.01\n"
     ]
    }
   ],
   "source": [
    "print(\"Среднее значение метрики: \" f\"{cv_result.mean():.2f}\")\n",
    "print(\"Стандартное отклонение предсказаний: \" f\"{cv_result.std():.2f}\")\n"
   ]
  },
  {
   "cell_type": "markdown",
   "metadata": {},
   "source": [
    "#### KNeighborsClassifier"
   ]
  },
  {
   "cell_type": "code",
   "execution_count": 42,
   "metadata": {},
   "outputs": [],
   "source": [
    "preprocessor_knn = ColumnTransformer(\n",
    "    transformers=[\n",
    "        (\n",
    "            \"ohe\",\n",
    "            OrdinalEncoder(handle_unknown=\"use_encoded_value\", unknown_value=-1),\n",
    "            ohe_columns,\n",
    "        ),\n",
    "        (\"scaler\", StandardScaler(), scale_columns),\n",
    "    ]\n",
    ")\n",
    "\n",
    "model_knn = make_pipeline(preprocessor_knn, KNeighborsClassifier())\n"
   ]
  },
  {
   "cell_type": "code",
   "execution_count": 43,
   "metadata": {},
   "outputs": [
    {
     "name": "stdout",
     "output_type": "stream",
     "text": [
      "[CV] START .....................................................................\n",
      "[CV] END ................................ score: (test=0.797) total time=   1.6s\n",
      "[Parallel(n_jobs=1)]: Done   1 tasks      | elapsed:    1.6s\n",
      "[CV] START .....................................................................\n",
      "[CV] END ................................ score: (test=0.798) total time=   2.5s\n",
      "[Parallel(n_jobs=1)]: Done   2 tasks      | elapsed:    4.1s\n",
      "[CV] START .....................................................................\n",
      "[CV] END ................................ score: (test=0.799) total time=   3.6s\n",
      "[Parallel(n_jobs=1)]: Done   3 tasks      | elapsed:    7.9s\n",
      "[Parallel(n_jobs=1)]: Done   3 tasks      | elapsed:    7.9s\n"
     ]
    }
   ],
   "source": [
    "cv_result = cross_val_score(\n",
    "    model_knn, X_train, y_train, cv=tscv, scoring=\"f1_weighted\", verbose=500\n",
    ")\n"
   ]
  },
  {
   "cell_type": "code",
   "execution_count": 44,
   "metadata": {},
   "outputs": [
    {
     "name": "stdout",
     "output_type": "stream",
     "text": [
      "Среднее значение метрики: 0.80\n",
      "Стандартное отклонение предсказаний: 0.00\n"
     ]
    }
   ],
   "source": [
    "print(\"Среднее значение метрики: \" f\"{cv_result.mean():.2f}\")\n",
    "print(\"Стандартное отклонение предсказаний: \" f\"{cv_result.std():.2f}\")\n"
   ]
  },
  {
   "cell_type": "markdown",
   "metadata": {},
   "source": [
    "#### RandomForestClassifier"
   ]
  },
  {
   "cell_type": "code",
   "execution_count": 45,
   "metadata": {},
   "outputs": [],
   "source": [
    "preprocessor_rfc = ColumnTransformer(\n",
    "    transformers=[\n",
    "        (\n",
    "            \"ohe\",\n",
    "            OrdinalEncoder(handle_unknown=\"use_encoded_value\", unknown_value=-1),\n",
    "            ohe_columns,\n",
    "        ),\n",
    "        (\"scaler\", StandardScaler(), scale_columns),\n",
    "    ]\n",
    ")\n",
    "\n",
    "model_rfc = make_pipeline(preprocessor_rfc, RandomForestClassifier())\n"
   ]
  },
  {
   "cell_type": "code",
   "execution_count": 46,
   "metadata": {},
   "outputs": [
    {
     "name": "stdout",
     "output_type": "stream",
     "text": [
      "[CV] START .....................................................................\n",
      "[CV] END ................................ score: (test=0.837) total time=   4.7s\n",
      "[Parallel(n_jobs=1)]: Done   1 tasks      | elapsed:    4.7s\n",
      "[CV] START .....................................................................\n",
      "[CV] END ................................ score: (test=0.841) total time=  10.5s\n",
      "[Parallel(n_jobs=1)]: Done   2 tasks      | elapsed:   15.3s\n",
      "[CV] START .....................................................................\n",
      "[CV] END ................................ score: (test=0.836) total time=  17.1s\n",
      "[Parallel(n_jobs=1)]: Done   3 tasks      | elapsed:   32.5s\n",
      "[Parallel(n_jobs=1)]: Done   3 tasks      | elapsed:   32.5s\n"
     ]
    }
   ],
   "source": [
    "cv_result = cross_val_score(\n",
    "    model_rfc, X_train, y_train, cv=tscv, scoring=\"f1_weighted\", verbose=500\n",
    ")\n"
   ]
  },
  {
   "cell_type": "code",
   "execution_count": 47,
   "metadata": {},
   "outputs": [
    {
     "name": "stdout",
     "output_type": "stream",
     "text": [
      "Среднее значение метрики: 0.84\n",
      "Стандартное отклонение предсказаний: 0.00\n"
     ]
    }
   ],
   "source": [
    "print(\"Среднее значение метрики: \" f\"{cv_result.mean():.2f}\")\n",
    "print(\"Стандартное отклонение предсказаний: \" f\"{cv_result.std():.2f}\")\n"
   ]
  },
  {
   "cell_type": "markdown",
   "metadata": {},
   "source": [
    "#### CatBoost"
   ]
  },
  {
   "cell_type": "code",
   "execution_count": 52,
   "metadata": {},
   "outputs": [],
   "source": [
    "model_e1_ctr = CatBoostClassifier(\n",
    "    verbose=50,\n",
    "    n_estimators=150,\n",
    "    cat_features=category_columns,\n",
    "    random_state=RANDOM_STATE,\n",
    ")"
   ]
  },
  {
   "cell_type": "code",
   "execution_count": 53,
   "metadata": {},
   "outputs": [
    {
     "name": "stdout",
     "output_type": "stream",
     "text": [
      "[CV] START .....................................................................\n",
      "Learning rate set to 0.256487\n",
      "0:\tlearn: 0.5214450\ttotal: 70.8ms\tremaining: 10.5s\n",
      "50:\tlearn: 0.2753524\ttotal: 3.21s\tremaining: 6.23s\n",
      "100:\tlearn: 0.2561789\ttotal: 6.3s\tremaining: 3.06s\n",
      "149:\tlearn: 0.2425230\ttotal: 9.28s\tremaining: 0us\n",
      "[CV] END ................................ score: (test=0.842) total time=   9.9s\n",
      "[Parallel(n_jobs=1)]: Done   1 tasks      | elapsed:    9.9s\n",
      "[CV] START .....................................................................\n",
      "Learning rate set to 0.344825\n",
      "0:\tlearn: 0.4756102\ttotal: 76.4ms\tremaining: 11.4s\n",
      "50:\tlearn: 0.2774270\ttotal: 3.73s\tremaining: 7.24s\n",
      "100:\tlearn: 0.2624868\ttotal: 7.31s\tremaining: 3.54s\n",
      "149:\tlearn: 0.2503013\ttotal: 10.9s\tremaining: 0us\n",
      "[CV] END ................................ score: (test=0.842) total time=  11.8s\n",
      "[Parallel(n_jobs=1)]: Done   2 tasks      | elapsed:   21.8s\n",
      "[CV] START .....................................................................\n",
      "Learning rate set to 0.410004\n",
      "0:\tlearn: 0.4570873\ttotal: 80.2ms\tremaining: 12s\n",
      "50:\tlearn: 0.2824394\ttotal: 4.24s\tremaining: 8.22s\n",
      "100:\tlearn: 0.2673119\ttotal: 8.31s\tremaining: 4.03s\n",
      "149:\tlearn: 0.2572891\ttotal: 12.2s\tremaining: 0us\n",
      "[CV] END ................................ score: (test=0.839) total time=  13.4s\n",
      "[Parallel(n_jobs=1)]: Done   3 tasks      | elapsed:   35.4s\n",
      "[Parallel(n_jobs=1)]: Done   3 tasks      | elapsed:   35.4s\n"
     ]
    }
   ],
   "source": [
    "cv_result = cross_val_score(\n",
    "    model_e1_ctr, X_train, y_train, cv=tscv, scoring=\"f1_weighted\", verbose=500\n",
    ")\n"
   ]
  },
  {
   "cell_type": "code",
   "execution_count": 54,
   "metadata": {},
   "outputs": [
    {
     "name": "stdout",
     "output_type": "stream",
     "text": [
      "Среднее значение метрики: 0.84\n",
      "Стандартное отклонение предсказаний: 0.00\n"
     ]
    }
   ],
   "source": [
    "print(\"Среднее значение метрики: \" f\"{cv_result.mean():.2f}\")\n",
    "print(\"Стандартное отклонение предсказаний: \" f\"{cv_result.std():.2f}\")\n"
   ]
  },
  {
   "cell_type": "markdown",
   "metadata": {},
   "source": [
    "#### Тестрирование"
   ]
  },
  {
   "cell_type": "markdown",
   "metadata": {},
   "source": [
    "Для тестирования выберем CatBoost"
   ]
  },
  {
   "cell_type": "code",
   "execution_count": 55,
   "metadata": {},
   "outputs": [
    {
     "name": "stdout",
     "output_type": "stream",
     "text": [
      "Learning rate set to 0.463592\n",
      "0:\tlearn: 0.4463139\ttotal: 91.8ms\tremaining: 13.7s\n",
      "50:\tlearn: 0.2836492\ttotal: 4.98s\tremaining: 9.68s\n",
      "100:\tlearn: 0.2719430\ttotal: 9.97s\tremaining: 4.84s\n",
      "149:\tlearn: 0.2623766\ttotal: 14.8s\tremaining: 0us\n"
     ]
    },
    {
     "data": {
      "text/plain": [
       "<catboost.core.CatBoostClassifier at 0x1802db92930>"
      ]
     },
     "execution_count": 55,
     "metadata": {},
     "output_type": "execute_result"
    }
   ],
   "source": [
    "model_e1_ctr.fit(X_train, y_train)\n"
   ]
  },
  {
   "cell_type": "code",
   "execution_count": 56,
   "metadata": {},
   "outputs": [],
   "source": [
    "y_pred = model_e1_ctr.predict(X_test)\n",
    "y_proba = model_e1_ctr.predict_proba(X_test)\n"
   ]
  },
  {
   "cell_type": "code",
   "execution_count": 57,
   "metadata": {},
   "outputs": [
    {
     "name": "stdout",
     "output_type": "stream",
     "text": [
      "              precision    recall  f1-score   support\n",
      "\n",
      "           0       0.71      0.50      0.58      8847\n",
      "           1       0.88      0.94      0.91     33340\n",
      "\n",
      "    accuracy                           0.85     42187\n",
      "   macro avg       0.79      0.72      0.75     42187\n",
      "weighted avg       0.84      0.85      0.84     42187\n",
      "\n"
     ]
    }
   ],
   "source": [
    "print(classification_report(y_test, y_pred))"
   ]
  },
  {
   "cell_type": "markdown",
   "metadata": {},
   "source": [
    "#### Важность признаков"
   ]
  },
  {
   "cell_type": "code",
   "execution_count": 58,
   "metadata": {},
   "outputs": [
    {
     "data": {
      "text/html": [
       "<div>\n",
       "<style scoped>\n",
       "    .dataframe tbody tr th:only-of-type {\n",
       "        vertical-align: middle;\n",
       "    }\n",
       "\n",
       "    .dataframe tbody tr th {\n",
       "        vertical-align: top;\n",
       "    }\n",
       "\n",
       "    .dataframe thead th {\n",
       "        text-align: right;\n",
       "    }\n",
       "</style>\n",
       "<table border=\"1\" class=\"dataframe\">\n",
       "  <thead>\n",
       "    <tr style=\"text-align: right;\">\n",
       "      <th></th>\n",
       "      <th>feature</th>\n",
       "      <th>importance</th>\n",
       "    </tr>\n",
       "  </thead>\n",
       "  <tbody>\n",
       "    <tr>\n",
       "      <th>25</th>\n",
       "      <td>element</td>\n",
       "      <td>36.142924</td>\n",
       "    </tr>\n",
       "    <tr>\n",
       "      <th>24</th>\n",
       "      <td>difficulty</td>\n",
       "      <td>17.471268</td>\n",
       "    </tr>\n",
       "    <tr>\n",
       "      <th>17</th>\n",
       "      <td>avg_overall_total_score_last_year</td>\n",
       "      <td>8.507504</td>\n",
       "    </tr>\n",
       "    <tr>\n",
       "      <th>0</th>\n",
       "      <td>segment_name</td>\n",
       "      <td>4.352867</td>\n",
       "    </tr>\n",
       "    <tr>\n",
       "      <th>20</th>\n",
       "      <td>avg_elements_score_last_year</td>\n",
       "      <td>3.963735</td>\n",
       "    </tr>\n",
       "    <tr>\n",
       "      <th>2</th>\n",
       "      <td>school_id</td>\n",
       "      <td>3.236039</td>\n",
       "    </tr>\n",
       "    <tr>\n",
       "      <th>15</th>\n",
       "      <td>falls</td>\n",
       "      <td>2.902475</td>\n",
       "    </tr>\n",
       "    <tr>\n",
       "      <th>3</th>\n",
       "      <td>origin_id</td>\n",
       "      <td>2.306661</td>\n",
       "    </tr>\n",
       "    <tr>\n",
       "      <th>26</th>\n",
       "      <td>prev_element</td>\n",
       "      <td>2.017422</td>\n",
       "    </tr>\n",
       "    <tr>\n",
       "      <th>18</th>\n",
       "      <td>avg_components_score_last_year</td>\n",
       "      <td>1.889652</td>\n",
       "    </tr>\n",
       "    <tr>\n",
       "      <th>16</th>\n",
       "      <td>avg_overall_place_last_year</td>\n",
       "      <td>1.726601</td>\n",
       "    </tr>\n",
       "    <tr>\n",
       "      <th>28</th>\n",
       "      <td>next_element</td>\n",
       "      <td>1.726244</td>\n",
       "    </tr>\n",
       "    <tr>\n",
       "      <th>23</th>\n",
       "      <td>avg_falls_last_year</td>\n",
       "      <td>1.718085</td>\n",
       "    </tr>\n",
       "    <tr>\n",
       "      <th>19</th>\n",
       "      <td>avg_place_last_year</td>\n",
       "      <td>1.526759</td>\n",
       "    </tr>\n",
       "    <tr>\n",
       "      <th>22</th>\n",
       "      <td>avg_total_score_last_year</td>\n",
       "      <td>1.443741</td>\n",
       "    </tr>\n",
       "    <tr>\n",
       "      <th>5</th>\n",
       "      <td>tournament_duration</td>\n",
       "      <td>1.158332</td>\n",
       "    </tr>\n",
       "    <tr>\n",
       "      <th>31</th>\n",
       "      <td>clear_prev_element</td>\n",
       "      <td>0.903581</td>\n",
       "    </tr>\n",
       "    <tr>\n",
       "      <th>8</th>\n",
       "      <td>start_day_of_week</td>\n",
       "      <td>0.777591</td>\n",
       "    </tr>\n",
       "    <tr>\n",
       "      <th>9</th>\n",
       "      <td>end_day_of_week</td>\n",
       "      <td>0.678865</td>\n",
       "    </tr>\n",
       "    <tr>\n",
       "      <th>1</th>\n",
       "      <td>color</td>\n",
       "      <td>0.634799</td>\n",
       "    </tr>\n",
       "    <tr>\n",
       "      <th>7</th>\n",
       "      <td>end_month</td>\n",
       "      <td>0.554480</td>\n",
       "    </tr>\n",
       "    <tr>\n",
       "      <th>32</th>\n",
       "      <td>clear_next_element</td>\n",
       "      <td>0.543896</td>\n",
       "    </tr>\n",
       "    <tr>\n",
       "      <th>21</th>\n",
       "      <td>avg_decreasings_score_last_year</td>\n",
       "      <td>0.514706</td>\n",
       "    </tr>\n",
       "    <tr>\n",
       "      <th>14</th>\n",
       "      <td>tournament_year</td>\n",
       "      <td>0.513524</td>\n",
       "    </tr>\n",
       "    <tr>\n",
       "      <th>6</th>\n",
       "      <td>start_month</td>\n",
       "      <td>0.463148</td>\n",
       "    </tr>\n",
       "    <tr>\n",
       "      <th>27</th>\n",
       "      <td>attr_prev_element</td>\n",
       "      <td>0.449392</td>\n",
       "    </tr>\n",
       "    <tr>\n",
       "      <th>12</th>\n",
       "      <td>start_season</td>\n",
       "      <td>0.378251</td>\n",
       "    </tr>\n",
       "    <tr>\n",
       "      <th>10</th>\n",
       "      <td>start_is_weekend</td>\n",
       "      <td>0.345073</td>\n",
       "    </tr>\n",
       "    <tr>\n",
       "      <th>29</th>\n",
       "      <td>attr_next_element</td>\n",
       "      <td>0.331204</td>\n",
       "    </tr>\n",
       "    <tr>\n",
       "      <th>11</th>\n",
       "      <td>end_is_weekend</td>\n",
       "      <td>0.324643</td>\n",
       "    </tr>\n",
       "    <tr>\n",
       "      <th>4</th>\n",
       "      <td>multiply</td>\n",
       "      <td>0.302358</td>\n",
       "    </tr>\n",
       "    <tr>\n",
       "      <th>13</th>\n",
       "      <td>end_season</td>\n",
       "      <td>0.194181</td>\n",
       "    </tr>\n",
       "    <tr>\n",
       "      <th>30</th>\n",
       "      <td>single_element</td>\n",
       "      <td>0.000000</td>\n",
       "    </tr>\n",
       "  </tbody>\n",
       "</table>\n",
       "</div>"
      ],
      "text/plain": [
       "                              feature  importance\n",
       "25                            element   36.142924\n",
       "24                         difficulty   17.471268\n",
       "17  avg_overall_total_score_last_year    8.507504\n",
       "0                        segment_name    4.352867\n",
       "20       avg_elements_score_last_year    3.963735\n",
       "2                           school_id    3.236039\n",
       "15                              falls    2.902475\n",
       "3                           origin_id    2.306661\n",
       "26                       prev_element    2.017422\n",
       "18     avg_components_score_last_year    1.889652\n",
       "16        avg_overall_place_last_year    1.726601\n",
       "28                       next_element    1.726244\n",
       "23                avg_falls_last_year    1.718085\n",
       "19                avg_place_last_year    1.526759\n",
       "22          avg_total_score_last_year    1.443741\n",
       "5                 tournament_duration    1.158332\n",
       "31                 clear_prev_element    0.903581\n",
       "8                   start_day_of_week    0.777591\n",
       "9                     end_day_of_week    0.678865\n",
       "1                               color    0.634799\n",
       "7                           end_month    0.554480\n",
       "32                 clear_next_element    0.543896\n",
       "21    avg_decreasings_score_last_year    0.514706\n",
       "14                    tournament_year    0.513524\n",
       "6                         start_month    0.463148\n",
       "27                  attr_prev_element    0.449392\n",
       "12                       start_season    0.378251\n",
       "10                   start_is_weekend    0.345073\n",
       "29                  attr_next_element    0.331204\n",
       "11                     end_is_weekend    0.324643\n",
       "4                            multiply    0.302358\n",
       "13                         end_season    0.194181\n",
       "30                     single_element    0.000000"
      ]
     },
     "execution_count": 58,
     "metadata": {},
     "output_type": "execute_result"
    }
   ],
   "source": [
    "importances = model_e1_ctr.get_feature_importance()\n",
    "\n",
    "feature_importance_df = pd.DataFrame(\n",
    "    {\"feature\": X_train.columns, \"importance\": importances}\n",
    ").sort_values(by=\"importance\", ascending=False)\n",
    "\n",
    "feature_importance_df"
   ]
  },
  {
   "cell_type": "markdown",
   "metadata": {},
   "source": [
    "Выберем признаки с важностью более 1 и переобучим модель."
   ]
  },
  {
   "cell_type": "code",
   "execution_count": 62,
   "metadata": {},
   "outputs": [
    {
     "data": {
      "text/plain": [
       "['element',\n",
       " 'difficulty',\n",
       " 'avg_overall_total_score_last_year',\n",
       " 'segment_name',\n",
       " 'avg_elements_score_last_year',\n",
       " 'school_id',\n",
       " 'falls',\n",
       " 'origin_id',\n",
       " 'prev_element',\n",
       " 'avg_components_score_last_year',\n",
       " 'avg_overall_place_last_year',\n",
       " 'next_element',\n",
       " 'avg_falls_last_year',\n",
       " 'avg_place_last_year',\n",
       " 'avg_total_score_last_year',\n",
       " 'tournament_duration']"
      ]
     },
     "execution_count": 62,
     "metadata": {},
     "output_type": "execute_result"
    }
   ],
   "source": [
    "selected_features = feature_importance_df[feature_importance_df[\"importance\"] > 1][\n",
    "    \"feature\"\n",
    "].to_list()\n",
    "selected_features"
   ]
  },
  {
   "cell_type": "code",
   "execution_count": 63,
   "metadata": {},
   "outputs": [],
   "source": [
    "cat_features = [x for x in category_columns if x in selected_features]"
   ]
  },
  {
   "cell_type": "code",
   "execution_count": 65,
   "metadata": {},
   "outputs": [
    {
     "name": "stdout",
     "output_type": "stream",
     "text": [
      "Learning rate set to 0.463592\n",
      "0:\tlearn: 0.5058352\ttotal: 61ms\tremaining: 9.08s\n",
      "50:\tlearn: 0.2931011\ttotal: 2.98s\tremaining: 5.79s\n",
      "100:\tlearn: 0.2834297\ttotal: 5.82s\tremaining: 2.82s\n",
      "149:\tlearn: 0.2780111\ttotal: 8.62s\tremaining: 0us\n"
     ]
    },
    {
     "data": {
      "text/plain": [
       "<catboost.core.CatBoostClassifier at 0x1802db90980>"
      ]
     },
     "execution_count": 65,
     "metadata": {},
     "output_type": "execute_result"
    }
   ],
   "source": [
    "model_e1_ctr_1 = CatBoostClassifier(\n",
    "    verbose=50,\n",
    "    n_estimators=150,\n",
    "    cat_features=cat_features,\n",
    "    random_state=RANDOM_STATE,\n",
    ")\n",
    "\n",
    "model_e1_ctr_1.fit(X_train[selected_features], y_train)"
   ]
  },
  {
   "cell_type": "code",
   "execution_count": 66,
   "metadata": {},
   "outputs": [
    {
     "name": "stdout",
     "output_type": "stream",
     "text": [
      "[CV] START .....................................................................\n",
      "Learning rate set to 0.256487\n",
      "0:\tlearn: 0.5637632\ttotal: 45.4ms\tremaining: 6.77s\n",
      "50:\tlearn: 0.2868223\ttotal: 2.28s\tremaining: 4.43s\n",
      "100:\tlearn: 0.2761221\ttotal: 4.46s\tremaining: 2.16s\n",
      "149:\tlearn: 0.2671675\ttotal: 6.64s\tremaining: 0us\n",
      "[CV] END ................................ score: (test=0.845) total time=   6.8s\n",
      "[Parallel(n_jobs=1)]: Done   1 tasks      | elapsed:    6.8s\n",
      "[CV] START .....................................................................\n",
      "Learning rate set to 0.344825\n",
      "0:\tlearn: 0.5362913\ttotal: 95.1ms\tremaining: 14.2s\n",
      "50:\tlearn: 0.2873367\ttotal: 2.52s\tremaining: 4.89s\n",
      "100:\tlearn: 0.2763215\ttotal: 4.91s\tremaining: 2.38s\n",
      "149:\tlearn: 0.2693828\ttotal: 7.41s\tremaining: 0us\n",
      "[CV] END ................................ score: (test=0.848) total time=   7.8s\n",
      "[Parallel(n_jobs=1)]: Done   2 tasks      | elapsed:   14.7s\n",
      "[CV] START .....................................................................\n",
      "Learning rate set to 0.410004\n",
      "0:\tlearn: 0.5210017\ttotal: 48.8ms\tremaining: 7.26s\n",
      "50:\tlearn: 0.2916358\ttotal: 2.79s\tremaining: 5.41s\n",
      "100:\tlearn: 0.2810284\ttotal: 5.51s\tremaining: 2.67s\n",
      "149:\tlearn: 0.2748432\ttotal: 8.06s\tremaining: 0us\n",
      "[CV] END ................................ score: (test=0.838) total time=   8.5s\n",
      "[Parallel(n_jobs=1)]: Done   3 tasks      | elapsed:   23.3s\n",
      "[Parallel(n_jobs=1)]: Done   3 tasks      | elapsed:   23.3s\n"
     ]
    }
   ],
   "source": [
    "cv_result = cross_val_score(\n",
    "    model_e1_ctr_1,\n",
    "    X_train[selected_features],\n",
    "    y_train,\n",
    "    cv=tscv,\n",
    "    scoring=\"f1_weighted\",\n",
    "    verbose=500,\n",
    ")\n"
   ]
  },
  {
   "cell_type": "code",
   "execution_count": 67,
   "metadata": {},
   "outputs": [
    {
     "name": "stdout",
     "output_type": "stream",
     "text": [
      "Среднее значение метрики: 0.84\n",
      "Стандартное отклонение предсказаний: 0.00\n"
     ]
    }
   ],
   "source": [
    "print(\"Среднее значение метрики: \" f\"{cv_result.mean():.2f}\")\n",
    "print(\"Стандартное отклонение предсказаний: \" f\"{cv_result.std():.2f}\")\n"
   ]
  },
  {
   "cell_type": "code",
   "execution_count": 68,
   "metadata": {},
   "outputs": [],
   "source": [
    "y_pred_e1_ctr_1 = model_e1_ctr_1.predict(X_test[selected_features])\n",
    "y_proba_e1_ctr_1 = model_e1_ctr_1.predict_proba(X_test[selected_features])"
   ]
  },
  {
   "cell_type": "code",
   "execution_count": 69,
   "metadata": {},
   "outputs": [
    {
     "data": {
      "text/plain": [
       "0.8404989503111845"
      ]
     },
     "execution_count": 69,
     "metadata": {},
     "output_type": "execute_result"
    }
   ],
   "source": [
    "f1_score_weighted_e1_ctr_1 = f1_score(y_test, y_pred_e1_ctr_1, average=\"weighted\")\n",
    "f1_score_weighted_e1_ctr_1"
   ]
  },
  {
   "cell_type": "code",
   "execution_count": 70,
   "metadata": {},
   "outputs": [
    {
     "name": "stdout",
     "output_type": "stream",
     "text": [
      "              precision    recall  f1-score   support\n",
      "\n",
      "           0       0.70      0.50      0.58      8847\n",
      "           1       0.88      0.94      0.91     33340\n",
      "\n",
      "    accuracy                           0.85     42187\n",
      "   macro avg       0.79      0.72      0.75     42187\n",
      "weighted avg       0.84      0.85      0.84     42187\n",
      "\n"
     ]
    }
   ],
   "source": [
    "print(classification_report(y_test, y_pred_e1_ctr_1))"
   ]
  },
  {
   "cell_type": "code",
   "execution_count": 72,
   "metadata": {},
   "outputs": [],
   "source": [
    "# joblib.dump(model_e1_ctr, \"../../models/model_one.joblib\")"
   ]
  },
  {
   "cell_type": "markdown",
   "metadata": {},
   "source": [
    "Можно поиграть с порогом, для более полного определения класса 0. Пока оставим так."
   ]
  },
  {
   "cell_type": "markdown",
   "metadata": {},
   "source": [
    "Попробуем тоже самое, но с NLP-эмбеддингами"
   ]
  },
  {
   "cell_type": "markdown",
   "metadata": {},
   "source": [
    "## Поэлементный подход с NLP - дата-сет `final_elements_data`"
   ]
  },
  {
   "cell_type": "code",
   "execution_count": 73,
   "metadata": {},
   "outputs": [
    {
     "data": {
      "text/plain": [
       "(168745, 34)"
      ]
     },
     "execution_count": 73,
     "metadata": {},
     "output_type": "execute_result"
    }
   ],
   "source": [
    "data_e2 = data_e1.copy()\n",
    "data_e2.shape"
   ]
  },
  {
   "cell_type": "code",
   "execution_count": 74,
   "metadata": {},
   "outputs": [
    {
     "data": {
      "text/plain": [
       "(168745, 46)"
      ]
     },
     "execution_count": 74,
     "metadata": {},
     "output_type": "execute_result"
    }
   ],
   "source": [
    "data_e2 = pd.merge(data_e2, nlp_dict, left_on=\"element\", right_on=\"item\", how=\"left\")\n",
    "data_e2.shape"
   ]
  },
  {
   "cell_type": "code",
   "execution_count": 75,
   "metadata": {},
   "outputs": [
    {
     "data": {
      "text/plain": [
       "(168745, 58)"
      ]
     },
     "execution_count": 75,
     "metadata": {},
     "output_type": "execute_result"
    }
   ],
   "source": [
    "data_e2 = pd.merge(\n",
    "    data_e2,\n",
    "    nlp_dict,\n",
    "    left_on=\"next_element\",\n",
    "    right_on=\"item\",\n",
    "    how=\"left\",\n",
    "    suffixes=(\"\", \"_next\"),\n",
    ")\n",
    "data_e2.shape"
   ]
  },
  {
   "cell_type": "code",
   "execution_count": 76,
   "metadata": {},
   "outputs": [
    {
     "data": {
      "text/plain": [
       "(168745, 70)"
      ]
     },
     "execution_count": 76,
     "metadata": {},
     "output_type": "execute_result"
    }
   ],
   "source": [
    "data_e2 = pd.merge(\n",
    "    data_e2,\n",
    "    nlp_dict,\n",
    "    left_on=\"prev_element\",\n",
    "    right_on=\"item\",\n",
    "    how=\"left\",\n",
    "    suffixes=(\"\", \"_prev\"),\n",
    ")\n",
    "data_e2.shape"
   ]
  },
  {
   "cell_type": "code",
   "execution_count": 77,
   "metadata": {},
   "outputs": [],
   "source": [
    "data_e2 = data_e2.drop(\n",
    "    [\n",
    "        \"element\",\n",
    "        \"prev_element\",\n",
    "        \"next_element\",\n",
    "        \"item\",\n",
    "        \"nlp_item\",\n",
    "        \"item_next\",\n",
    "        \"nlp_item_next\",\n",
    "        \"item_prev\",\n",
    "        \"nlp_item_prev\",\n",
    "    ],\n",
    "    axis=1,\n",
    ")"
   ]
  },
  {
   "cell_type": "code",
   "execution_count": 78,
   "metadata": {},
   "outputs": [
    {
     "data": {
      "text/plain": [
       "2765"
      ]
     },
     "execution_count": 78,
     "metadata": {},
     "output_type": "execute_result"
    }
   ],
   "source": [
    "data_e2.duplicated(keep=\"first\").sum()"
   ]
  },
  {
   "cell_type": "code",
   "execution_count": 79,
   "metadata": {},
   "outputs": [
    {
     "data": {
      "text/plain": [
       "target_clear_element\n",
       "1    138436\n",
       "0     30309\n",
       "Name: count, dtype: int64"
      ]
     },
     "execution_count": 79,
     "metadata": {},
     "output_type": "execute_result"
    }
   ],
   "source": [
    "data_e2[\"target_clear_element\"].value_counts()"
   ]
  },
  {
   "cell_type": "markdown",
   "metadata": {},
   "source": [
    "### Разделение данных"
   ]
  },
  {
   "cell_type": "code",
   "execution_count": 87,
   "metadata": {},
   "outputs": [
    {
     "name": "stdout",
     "output_type": "stream",
     "text": [
      "(126558, 60)\n",
      "(126558,)\n",
      "(42187, 60)\n",
      "(42187,)\n"
     ]
    }
   ],
   "source": [
    "X = data_e2.drop(\"target_clear_element\", axis=1)\n",
    "y = data_e2[\"target_clear_element\"]\n",
    "\n",
    "X_train, X_test, y_train, y_test = train_test_split(\n",
    "    X, y, shuffle=False, random_state=1206\n",
    ")\n",
    "\n",
    "print(X_train.shape)\n",
    "print(y_train.shape)\n",
    "print(X_test.shape)\n",
    "print(y_test.shape)"
   ]
  },
  {
   "cell_type": "markdown",
   "metadata": {},
   "source": [
    "### Моделирование"
   ]
  },
  {
   "cell_type": "code",
   "execution_count": 88,
   "metadata": {},
   "outputs": [],
   "source": [
    "category_columns = [\n",
    "    # \"id\",\n",
    "    # \"total_score_id\",\n",
    "    # \"title\",\n",
    "    # \"decrease\",\n",
    "    # \"base_score\",\n",
    "    # \"goe\",\n",
    "    # \"avg_score\",\n",
    "    # \"unit_id\",\n",
    "    # \"tournament_id\",\n",
    "    # \"base_score_total_scores\",\n",
    "    # \"components_score\",\n",
    "    # \"total_score\",\n",
    "    # \"elements_score\",\n",
    "    # \"decreasings_score\",\n",
    "    # \"starting_place\",\n",
    "    # \"place\",\n",
    "    \"segment_name\",\n",
    "    # \"info\",\n",
    "    # \"overall_place\",\n",
    "    # \"overall_total_score\",\n",
    "    # \"overall_place_str\",\n",
    "    \"color\",\n",
    "    \"school_id\",\n",
    "    # \"date_start\",\n",
    "    # \"date_end\",\n",
    "    \"origin_id\",\n",
    "    # \"sequences\",\n",
    "    # \"cascade\",\n",
    "    # \"title_nlp\",\n",
    "    # \"cascade_nlp\",\n",
    "    \"multiply\",\n",
    "    # \"tournament_duration\",\n",
    "    \"start_month\",\n",
    "    \"end_month\",\n",
    "    \"start_day_of_week\",\n",
    "    \"end_day_of_week\",\n",
    "    \"start_is_weekend\",\n",
    "    \"end_is_weekend\",\n",
    "    \"start_season\",\n",
    "    \"end_season\",\n",
    "    \"tournament_year\",\n",
    "    # \"units_with_experience\",\n",
    "    \"falls\",\n",
    "    # \"components_score_per_element\",\n",
    "    # \"custom_base_score\",\n",
    "    # \"avg_overall_place_last_year\",\n",
    "    # \"avg_overall_total_score_last_year\",\n",
    "    # \"avg_components_score_last_year\",\n",
    "    # \"avg_place_last_year\",\n",
    "    # \"avg_elements_score_last_year\",\n",
    "    # \"avg_decreasings_score_last_year\",\n",
    "    # \"avg_total_score_last_year\",\n",
    "    # \"avg_falls_last_year\",\n",
    "    # \"element\",\n",
    "    # \"attr_element\",\n",
    "    # \"prev_element\",\n",
    "    \"attr_prev_element\",\n",
    "    # \"next_element\",\n",
    "    \"attr_next_element\",\n",
    "    \"single_element\",\n",
    "    # \"target_clear_element\",\n",
    "    \"clear_prev_element\",\n",
    "    \"clear_next_element\",\n",
    "    # \"difficulty\",\n",
    "    # \"perfect_attr_element\",\n",
    "    # \"q_attr_element\",\n",
    "    # \"e_attr_element\",\n",
    "    # \"l_attr_element\",\n",
    "    # \"ll_attr_element\",\n",
    "    # \"h_attr_element\",\n",
    "    # \"v_attr_element\",\n",
    "    # \"perfect_attr_prev_element\",\n",
    "    # \"q_attr_prev_element\",\n",
    "    # \"e_attr_prev_element\",\n",
    "    # \"l_attr_prev_element\",\n",
    "    # \"ll_attr_prev_element\",\n",
    "    # \"h_attr_prev_element\",\n",
    "    # \"v_attr_prev_element\",\n",
    "    # \"perfect_attr_next_element\",\n",
    "    # \"q_attr_next_element\",\n",
    "    # \"e_attr_next_element\",\n",
    "    # \"l_attr_next_element\",\n",
    "    # \"ll_attr_next_element\",\n",
    "    # \"h_attr_next_element\",\n",
    "    # \"v_attr_next_element\",\n",
    "    # \"embed_0\",\n",
    "    # \"embed_1\",\n",
    "    # \"embed_2\",\n",
    "    # \"embed_3\",\n",
    "    # \"embed_4\",\n",
    "    # \"embed_5\",\n",
    "    # \"embed_6\",\n",
    "    # \"embed_7\",\n",
    "    # \"embed_8\",\n",
    "    # \"embed_9\",\n",
    "    # \"embed_0_next\",\n",
    "    # \"embed_1_next\",\n",
    "    # \"embed_2_next\",\n",
    "    # \"embed_3_next\",\n",
    "    # \"embed_4_next\",\n",
    "    # \"embed_5_next\",\n",
    "    # \"embed_6_next\",\n",
    "    # \"embed_7_next\",\n",
    "    # \"embed_8_next\",\n",
    "    # \"embed_9_next\",\n",
    "    # \"embed_0_prev\",\n",
    "    # \"embed_1_prev\",\n",
    "    # \"embed_2_prev\",\n",
    "    # \"embed_3_prev\",\n",
    "    # \"embed_4_prev\",\n",
    "    # \"embed_5_prev\",\n",
    "    # \"embed_6_prev\",\n",
    "    # \"embed_7_prev\",\n",
    "    # \"embed_8_prev\",\n",
    "    # \"embed_9_prev\",\n",
    "]\n",
    "\n",
    "ohe_columns = [x for x in category_columns if x in X.columns]\n",
    "scale_columns = [x for x in X.columns if x not in category_columns]"
   ]
  },
  {
   "cell_type": "code",
   "execution_count": 89,
   "metadata": {},
   "outputs": [],
   "source": [
    "model_e2_ctc = CatBoostClassifier(\n",
    "    verbose=50,\n",
    "    n_estimators=150,\n",
    "    cat_features=category_columns,\n",
    "    random_state=RANDOM_STATE,\n",
    ")"
   ]
  },
  {
   "cell_type": "code",
   "execution_count": 90,
   "metadata": {},
   "outputs": [
    {
     "name": "stdout",
     "output_type": "stream",
     "text": [
      "[CV] START .....................................................................\n",
      "Learning rate set to 0.256487\n",
      "0:\tlearn: 0.5053774\ttotal: 67.5ms\tremaining: 10.1s\n",
      "50:\tlearn: 0.2743041\ttotal: 3.58s\tremaining: 6.95s\n",
      "100:\tlearn: 0.2472491\ttotal: 7.02s\tremaining: 3.4s\n",
      "149:\tlearn: 0.2310696\ttotal: 10.4s\tremaining: 0us\n",
      "[CV] END ................................ score: (test=0.851) total time=  11.0s\n",
      "[Parallel(n_jobs=1)]: Done   1 tasks      | elapsed:   11.0s\n",
      "[CV] START .....................................................................\n",
      "Learning rate set to 0.344825\n",
      "0:\tlearn: 0.4716112\ttotal: 72.6ms\tremaining: 10.8s\n",
      "50:\tlearn: 0.2726181\ttotal: 3.97s\tremaining: 7.71s\n",
      "100:\tlearn: 0.2563880\ttotal: 7.94s\tremaining: 3.85s\n",
      "149:\tlearn: 0.2444515\ttotal: 11.7s\tremaining: 0us\n",
      "[CV] END ................................ score: (test=0.844) total time=  12.5s\n",
      "[Parallel(n_jobs=1)]: Done   2 tasks      | elapsed:   23.6s\n",
      "[CV] START .....................................................................\n",
      "Learning rate set to 0.410004\n",
      "0:\tlearn: 0.4288041\ttotal: 96ms\tremaining: 14.3s\n",
      "50:\tlearn: 0.2783124\ttotal: 4.62s\tremaining: 8.97s\n",
      "100:\tlearn: 0.2621564\ttotal: 8.99s\tremaining: 4.36s\n",
      "149:\tlearn: 0.2523955\ttotal: 13.4s\tremaining: 0us\n",
      "[CV] END ................................ score: (test=0.842) total time=  14.5s\n",
      "[Parallel(n_jobs=1)]: Done   3 tasks      | elapsed:   38.2s\n",
      "[Parallel(n_jobs=1)]: Done   3 tasks      | elapsed:   38.2s\n"
     ]
    }
   ],
   "source": [
    "cv_result = cross_val_score(\n",
    "    model_e2_ctc, X_train, y_train, cv=tscv, scoring=\"f1_weighted\", verbose=500\n",
    ")\n"
   ]
  },
  {
   "cell_type": "code",
   "execution_count": 91,
   "metadata": {},
   "outputs": [
    {
     "name": "stdout",
     "output_type": "stream",
     "text": [
      "Среднее значение метрики: 0.85\n",
      "Стандартное отклонение предсказаний: 0.00\n"
     ]
    }
   ],
   "source": [
    "print(\"Среднее значение метрики: \" f\"{cv_result.mean():.2f}\")\n",
    "print(\"Стандартное отклонение предсказаний: \" f\"{cv_result.std():.2f}\")\n"
   ]
  },
  {
   "cell_type": "markdown",
   "metadata": {},
   "source": [
    "Заметно улучшение метрики на кросс-валидации."
   ]
  },
  {
   "cell_type": "markdown",
   "metadata": {},
   "source": [
    "#### Тестрирование"
   ]
  },
  {
   "cell_type": "markdown",
   "metadata": {},
   "source": [
    "Для тестирования выберем CatBoost"
   ]
  },
  {
   "cell_type": "code",
   "execution_count": 92,
   "metadata": {},
   "outputs": [
    {
     "name": "stdout",
     "output_type": "stream",
     "text": [
      "Learning rate set to 0.463592\n",
      "0:\tlearn: 0.4168395\ttotal: 95.4ms\tremaining: 14.2s\n",
      "50:\tlearn: 0.2823758\ttotal: 5.24s\tremaining: 10.2s\n",
      "100:\tlearn: 0.2694687\ttotal: 10.3s\tremaining: 4.99s\n",
      "149:\tlearn: 0.2598861\ttotal: 15.1s\tremaining: 0us\n"
     ]
    },
    {
     "data": {
      "text/plain": [
       "<catboost.core.CatBoostClassifier at 0x1802dd19790>"
      ]
     },
     "execution_count": 92,
     "metadata": {},
     "output_type": "execute_result"
    }
   ],
   "source": [
    "model_e2_ctc.fit(X_train, y_train)\n"
   ]
  },
  {
   "cell_type": "code",
   "execution_count": 93,
   "metadata": {},
   "outputs": [],
   "source": [
    "y_pred = model_e2_ctc.predict(X_test)\n",
    "y_proba = model_e2_ctc.predict_proba(X_test)\n"
   ]
  },
  {
   "cell_type": "code",
   "execution_count": 94,
   "metadata": {},
   "outputs": [
    {
     "name": "stdout",
     "output_type": "stream",
     "text": [
      "              precision    recall  f1-score   support\n",
      "\n",
      "           0       0.71      0.49      0.58      8847\n",
      "           1       0.88      0.95      0.91     33340\n",
      "\n",
      "    accuracy                           0.85     42187\n",
      "   macro avg       0.79      0.72      0.75     42187\n",
      "weighted avg       0.84      0.85      0.84     42187\n",
      "\n"
     ]
    }
   ],
   "source": [
    "print(classification_report(y_test, y_pred))"
   ]
  },
  {
   "cell_type": "code",
   "execution_count": 95,
   "metadata": {},
   "outputs": [
    {
     "data": {
      "text/plain": [
       "0.8408500589029907"
      ]
     },
     "execution_count": 95,
     "metadata": {},
     "output_type": "execute_result"
    }
   ],
   "source": [
    "f1_score_weighted_e2_ctc = f1_score(y_test, y_pred, average=\"weighted\")\n",
    "f1_score_weighted_e2_ctc"
   ]
  },
  {
   "cell_type": "markdown",
   "metadata": {},
   "source": [
    "Заметного улучшения на тестовых данных не замечено."
   ]
  },
  {
   "cell_type": "markdown",
   "metadata": {},
   "source": [
    "Попробуем \"наборный\" подход. Используем данные каскадов, комбинаций без разделения на отдельные элементы."
   ]
  },
  {
   "cell_type": "markdown",
   "metadata": {},
   "source": [
    "## Наборный подход - дата-сет `final_data`"
   ]
  },
  {
   "cell_type": "code",
   "execution_count": 96,
   "metadata": {},
   "outputs": [
    {
     "data": {
      "text/plain": [
       "(136126, 27)"
      ]
     },
     "execution_count": 96,
     "metadata": {},
     "output_type": "execute_result"
    }
   ],
   "source": [
    "data_e3 = final_data[\n",
    "    [\n",
    "        # \"id\",\n",
    "        # \"total_score_id\",\n",
    "        # \"title\",\n",
    "        # \"decrease\",\n",
    "        # \"base_score\",\n",
    "        # \"goe\",\n",
    "        # \"avg_score\",\n",
    "        # \"unit_id\",\n",
    "        # \"tournament_id\",\n",
    "        # \"base_score_total_scores\",\n",
    "        # \"components_score\",\n",
    "        # \"total_score\",\n",
    "        # \"elements_score\",\n",
    "        # \"decreasings_score\",\n",
    "        # \"starting_place\",\n",
    "        # \"place\",\n",
    "        \"segment_name\",\n",
    "        # \"info\",\n",
    "        # \"overall_place\",\n",
    "        # \"overall_total_score\",\n",
    "        # \"overall_place_str\",\n",
    "        \"color\",\n",
    "        \"school_id\",\n",
    "        # \"date_start\",\n",
    "        # \"date_end\",\n",
    "        \"origin_id\",\n",
    "        # \"sequences\",\n",
    "        \"cascade\",\n",
    "        # \"title_nlp\",\n",
    "        # \"cascade_nlp\",\n",
    "        \"multiply\",\n",
    "        \"tournament_duration\",\n",
    "        \"start_month\",\n",
    "        \"end_month\",\n",
    "        \"start_day_of_week\",\n",
    "        \"end_day_of_week\",\n",
    "        \"start_is_weekend\",\n",
    "        \"end_is_weekend\",\n",
    "        \"start_season\",\n",
    "        \"end_season\",\n",
    "        \"tournament_year\",\n",
    "        # \"units_with_experience\",\n",
    "        \"falls\",\n",
    "        # \"components_score_per_element\",\n",
    "        # \"custom_base_score\",\n",
    "        \"avg_overall_place_last_year\",\n",
    "        \"avg_overall_total_score_last_year\",\n",
    "        \"avg_components_score_last_year\",\n",
    "        \"avg_place_last_year\",\n",
    "        \"avg_elements_score_last_year\",\n",
    "        \"avg_decreasings_score_last_year\",\n",
    "        \"avg_total_score_last_year\",\n",
    "        \"avg_falls_last_year\",\n",
    "        \"target_clear_element\",\n",
    "        \"difficulty\",\n",
    "        # \"perfect_element\",\n",
    "        # \"q_element\",\n",
    "        # \"e_element\",\n",
    "        # \"l_element\",\n",
    "        # \"ll_element\",\n",
    "        # \"h_element\",\n",
    "        # \"v_element\",\n",
    "    ]\n",
    "].copy()\n",
    "data_e3.shape"
   ]
  },
  {
   "cell_type": "code",
   "execution_count": 97,
   "metadata": {},
   "outputs": [
    {
     "data": {
      "text/plain": [
       "2431"
      ]
     },
     "execution_count": 97,
     "metadata": {},
     "output_type": "execute_result"
    }
   ],
   "source": [
    "data_e3.duplicated(keep=\"first\").sum()"
   ]
  },
  {
   "cell_type": "code",
   "execution_count": 98,
   "metadata": {},
   "outputs": [
    {
     "data": {
      "text/plain": [
       "target_clear_element\n",
       "1    108199\n",
       "0     27927\n",
       "Name: count, dtype: int64"
      ]
     },
     "execution_count": 98,
     "metadata": {},
     "output_type": "execute_result"
    }
   ],
   "source": [
    "data_e3[\"target_clear_element\"].value_counts()"
   ]
  },
  {
   "cell_type": "markdown",
   "metadata": {},
   "source": [
    "### Разделение данных"
   ]
  },
  {
   "cell_type": "code",
   "execution_count": 99,
   "metadata": {},
   "outputs": [
    {
     "name": "stdout",
     "output_type": "stream",
     "text": [
      "(102094, 26)\n",
      "(102094,)\n",
      "(34032, 26)\n",
      "(34032,)\n"
     ]
    }
   ],
   "source": [
    "X = data_e3.drop(\"target_clear_element\", axis=1)\n",
    "y = data_e3[\"target_clear_element\"]\n",
    "\n",
    "X_train, X_test, y_train, y_test = train_test_split(\n",
    "    X, y, shuffle=False, random_state=1206\n",
    ")\n",
    "\n",
    "print(X_train.shape)\n",
    "print(y_train.shape)\n",
    "print(X_test.shape)\n",
    "print(y_test.shape)"
   ]
  },
  {
   "cell_type": "markdown",
   "metadata": {},
   "source": [
    "### Моделирование"
   ]
  },
  {
   "cell_type": "code",
   "execution_count": 100,
   "metadata": {},
   "outputs": [],
   "source": [
    "category_columns = [\n",
    "    # \"id\",\n",
    "    # \"total_score_id\",\n",
    "    # \"title\",\n",
    "    # \"decrease\",\n",
    "    # \"base_score\",\n",
    "    # \"goe\",\n",
    "    # \"avg_score\",\n",
    "    # \"unit_id\",\n",
    "    # \"tournament_id\",\n",
    "    # \"base_score_total_scores\",\n",
    "    # \"components_score\",\n",
    "    # \"total_score\",\n",
    "    # \"elements_score\",\n",
    "    # \"decreasings_score\",\n",
    "    # \"starting_place\",\n",
    "    # \"place\",\n",
    "    \"segment_name\",\n",
    "    # \"info\",\n",
    "    # \"overall_place\",\n",
    "    # \"overall_total_score\",\n",
    "    # \"overall_place_str\",\n",
    "    \"color\",\n",
    "    \"school_id\",\n",
    "    # \"date_start\",\n",
    "    # \"date_end\",\n",
    "    \"origin_id\",\n",
    "    # \"sequences\",\n",
    "    \"cascade\",\n",
    "    # \"title_nlp\",\n",
    "    # \"cascade_nlp\",\n",
    "    # \"multiply\",\n",
    "    # \"tournament_duration\",\n",
    "    \"start_month\",\n",
    "    \"end_month\",\n",
    "    \"start_day_of_week\",\n",
    "    \"end_day_of_week\",\n",
    "    \"start_is_weekend\",\n",
    "    \"end_is_weekend\",\n",
    "    \"start_season\",\n",
    "    \"end_season\",\n",
    "    \"tournament_year\",\n",
    "    # \"units_with_experience\",\n",
    "    \"falls\",\n",
    "    # \"components_score_per_element\",\n",
    "    # \"custom_base_score\",\n",
    "    # \"avg_overall_place_last_year\",\n",
    "    # \"avg_overall_total_score_last_year\",\n",
    "    # \"avg_components_score_last_year\",\n",
    "    # \"avg_place_last_year\",\n",
    "    # \"avg_elements_score_last_year\",\n",
    "    # \"avg_decreasings_score_last_year\",\n",
    "    # \"avg_total_score_last_year\",\n",
    "    # \"avg_falls_last_year\",\n",
    "    # \"target_clear_element\",\n",
    "    # \"difficulty\",\n",
    "    # \"perfect_element\",\n",
    "    # \"q_element\",\n",
    "    # \"e_element\",\n",
    "    # \"l_element\",\n",
    "    # \"ll_element\",\n",
    "    # \"h_element\",\n",
    "    # \"v_element\",\n",
    "]\n",
    "\n",
    "ohe_columns = [x for x in category_columns if x in X.columns]\n",
    "scale_columns = [x for x in X.columns if x not in category_columns]"
   ]
  },
  {
   "cell_type": "code",
   "execution_count": 101,
   "metadata": {},
   "outputs": [],
   "source": [
    "model_e3_ctс = CatBoostClassifier(\n",
    "    verbose=50,\n",
    "    n_estimators=150,\n",
    "    cat_features=category_columns,\n",
    "    random_state=RANDOM_STATE,\n",
    ")"
   ]
  },
  {
   "cell_type": "code",
   "execution_count": 102,
   "metadata": {},
   "outputs": [
    {
     "name": "stdout",
     "output_type": "stream",
     "text": [
      "[CV] START .....................................................................\n",
      "Learning rate set to 0.234009\n",
      "0:\tlearn: 0.5241410\ttotal: 67ms\tremaining: 9.99s\n",
      "50:\tlearn: 0.2938095\ttotal: 3.46s\tremaining: 6.71s\n",
      "100:\tlearn: 0.2709476\ttotal: 6.78s\tremaining: 3.29s\n",
      "149:\tlearn: 0.2566208\ttotal: 10.1s\tremaining: 0us\n",
      "[CV] END ................................ score: (test=0.825) total time=  10.4s\n",
      "[Parallel(n_jobs=1)]: Done   1 tasks      | elapsed:   10.4s\n",
      "[CV] START .....................................................................\n",
      "Learning rate set to 0.314605\n",
      "0:\tlearn: 0.4918866\ttotal: 71.6ms\tremaining: 10.7s\n",
      "50:\tlearn: 0.2948923\ttotal: 3.75s\tremaining: 7.28s\n",
      "100:\tlearn: 0.2763060\ttotal: 7.38s\tremaining: 3.58s\n",
      "149:\tlearn: 0.2627089\ttotal: 10.9s\tremaining: 0us\n",
      "[CV] END ................................ score: (test=0.824) total time=  11.3s\n",
      "[Parallel(n_jobs=1)]: Done   2 tasks      | elapsed:   21.9s\n",
      "[CV] START .....................................................................\n",
      "Learning rate set to 0.374071\n",
      "0:\tlearn: 0.4840133\ttotal: 83.8ms\tremaining: 12.5s\n",
      "50:\tlearn: 0.2968868\ttotal: 4.14s\tremaining: 8.04s\n",
      "100:\tlearn: 0.2824277\ttotal: 8.27s\tremaining: 4.01s\n",
      "149:\tlearn: 0.2718903\ttotal: 12.4s\tremaining: 0us\n",
      "[CV] END ................................ score: (test=0.829) total time=  13.1s\n",
      "[Parallel(n_jobs=1)]: Done   3 tasks      | elapsed:   35.0s\n",
      "[Parallel(n_jobs=1)]: Done   3 tasks      | elapsed:   35.0s\n"
     ]
    }
   ],
   "source": [
    "cv_result = cross_val_score(\n",
    "    model_e3_ctс, X_train, y_train, cv=tscv, scoring=\"f1_weighted\", verbose=500\n",
    ")\n"
   ]
  },
  {
   "cell_type": "code",
   "execution_count": 104,
   "metadata": {},
   "outputs": [
    {
     "name": "stdout",
     "output_type": "stream",
     "text": [
      "Среднее значение метрики: 0.83\n",
      "Стандартное отклонение предсказаний: 0.00\n"
     ]
    }
   ],
   "source": [
    "print(\"Среднее значение метрики: \" f\"{cv_result.mean():.2f}\")\n",
    "print(\"Стандартное отклонение предсказаний: \" f\"{cv_result.std():.2f}\")\n"
   ]
  },
  {
   "cell_type": "markdown",
   "metadata": {},
   "source": [
    "Качество на кросс-валидации хуже."
   ]
  },
  {
   "cell_type": "markdown",
   "metadata": {},
   "source": [
    "#### Тестрирование"
   ]
  },
  {
   "cell_type": "code",
   "execution_count": 106,
   "metadata": {},
   "outputs": [
    {
     "name": "stdout",
     "output_type": "stream",
     "text": [
      "Learning rate set to 0.422962\n",
      "0:\tlearn: 0.4654640\ttotal: 96.9ms\tremaining: 14.4s\n",
      "50:\tlearn: 0.2999686\ttotal: 4.8s\tremaining: 9.32s\n",
      "100:\tlearn: 0.2867286\ttotal: 9.23s\tremaining: 4.48s\n",
      "149:\tlearn: 0.2766964\ttotal: 13.7s\tremaining: 0us\n"
     ]
    },
    {
     "data": {
      "text/plain": [
       "<catboost.core.CatBoostClassifier at 0x1802dd23a10>"
      ]
     },
     "execution_count": 106,
     "metadata": {},
     "output_type": "execute_result"
    }
   ],
   "source": [
    "model_e3_ctс.fit(X_train, y_train)"
   ]
  },
  {
   "cell_type": "code",
   "execution_count": 107,
   "metadata": {},
   "outputs": [],
   "source": [
    "y_pred = model_e3_ctс.predict(X_test)\n",
    "y_proba = model_e3_ctс.predict_proba(X_test)\n"
   ]
  },
  {
   "cell_type": "code",
   "execution_count": 108,
   "metadata": {},
   "outputs": [
    {
     "name": "stdout",
     "output_type": "stream",
     "text": [
      "              precision    recall  f1-score   support\n",
      "\n",
      "           0       0.70      0.54      0.61      8168\n",
      "           1       0.87      0.93      0.90     25864\n",
      "\n",
      "    accuracy                           0.84     34032\n",
      "   macro avg       0.78      0.74      0.75     34032\n",
      "weighted avg       0.83      0.84      0.83     34032\n",
      "\n"
     ]
    }
   ],
   "source": [
    "print(classification_report(y_test, y_pred))"
   ]
  },
  {
   "cell_type": "code",
   "execution_count": 109,
   "metadata": {},
   "outputs": [
    {
     "data": {
      "text/plain": [
       "0.8275894248999055"
      ]
     },
     "execution_count": 109,
     "metadata": {},
     "output_type": "execute_result"
    }
   ],
   "source": [
    "f1_score_weighted_e3_ctc = f1_score(y_test, y_pred, average=\"weighted\")\n",
    "f1_score_weighted_e3_ctc\n"
   ]
  },
  {
   "cell_type": "markdown",
   "metadata": {},
   "source": [
    "# Вывод по разработке \"Модели № 1\""
   ]
  },
  {
   "cell_type": "markdown",
   "metadata": {},
   "source": []
  }
 ],
 "metadata": {
  "kernelspec": {
   "display_name": ".venv",
   "language": "python",
   "name": "python3"
  },
  "language_info": {
   "codemirror_mode": {
    "name": "ipython",
    "version": 3
   },
   "file_extension": ".py",
   "mimetype": "text/x-python",
   "name": "python",
   "nbconvert_exporter": "python",
   "pygments_lexer": "ipython3",
   "version": "3.12.3"
  }
 },
 "nbformat": 4,
 "nbformat_minor": 2
}
